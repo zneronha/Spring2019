{
 "cells": [
  {
   "cell_type": "code",
   "execution_count": 1,
   "metadata": {},
   "outputs": [],
   "source": [
    "library(stringr)\n",
    "library(TDA)"
   ]
  },
  {
   "cell_type": "code",
   "execution_count": 19,
   "metadata": {},
   "outputs": [],
   "source": [
    "parseOutput <- function(output) {\n",
    "    \n",
    "    indices = grep(\"persistence intervals in dim \", output, value=FALSE)\n",
    "    maxDimension = length(indices) - 1\n",
    "    indices = c(indices, length(output))\n",
    "    \n",
    "    diagram = matrix(, ncol=3, nrow=0)\n",
    "    \n",
    "    for(dim in 0 : maxDimension) {\n",
    "        \n",
    "        if(dim == maxDimension) {\n",
    "            intervals = output[ (indices[dim+1] + 1) : (indices[dim + 2]) ]\n",
    "        }else{\n",
    "            intervals = output[ (indices[dim+1] + 1) : (indices[dim+2] - 1) ]\n",
    "        }\n",
    "        \n",
    "        intervals = grep(\"\\\\[\\\\d*\\\\.?\\\\d+\\\\,\\\\d*\\\\.?\\\\d+\\\\)\", intervals, value=TRUE)\n",
    "        intervals = gsub(\"(\\\\s|\\\\[|\\\\))\", \"\", intervals)\n",
    "        \n",
    "        intervals = as.numeric(unlist(strsplit(intervals, \",\")))\n",
    "        intervals = matrix(intervals, ncol=2, byrow=T)\n",
    "        \n",
    "        intervals = cbind(rep(dim, nrow(intervals)), intervals)\n",
    "        \n",
    "        diagram = rbind(diagram, intervals)\n",
    "    }\n",
    "    \n",
    "    colnames(diagram) = c(\"dimension\", \"Birth\", \"Death\")\n",
    "    \n",
    "    return(diagram)    \n",
    "}"
   ]
  },
  {
   "cell_type": "code",
   "execution_count": 20,
   "metadata": {},
   "outputs": [],
   "source": [
    "ripserDiag = function(X, dimension, threshold, format=\"point-cloud\") {\n",
    "    \n",
    "    f = tempfile()\n",
    "    write.table(X, f, col.names = FALSE, row.names = FALSE)\n",
    "    \n",
    "    dimension = as.character(dimension)\n",
    "    threshold = as.character(threshold)\n",
    "    \n",
    "    ripserOut = system2(\"/home/labmember/ripser/ripser\", args = c( \"--dim\", dimension, \"--threshold\", threshold, \"--format\", format , f), stdout = TRUE)\n",
    "    \n",
    "    return( parseOutput( ripserOut ) )\n",
    "}"
   ]
  },
  {
   "cell_type": "code",
   "execution_count": 21,
   "metadata": {},
   "outputs": [],
   "source": [
    "num.pts = 100\n",
    "rand.angle = runif(num.pts, 0, 2*pi)\n",
    "pt.cloud = cbind(cos(rand.angle), sin(rand.angle))"
   ]
  },
  {
   "cell_type": "code",
   "execution_count": 14,
   "metadata": {},
   "outputs": [],
   "source": [
    "homology0 <- ripserDiag(pt.cloud, 0, 6)\n",
    "homology1 <- ripserDiag(pt.cloud, 1, 6)"
   ]
  },
  {
   "cell_type": "code",
   "execution_count": null,
   "metadata": {},
   "outputs": [],
   "source": []
  }
 ],
 "metadata": {
  "kernelspec": {
   "display_name": "R",
   "language": "R",
   "name": "ir"
  },
  "language_info": {
   "codemirror_mode": "r",
   "file_extension": ".r",
   "mimetype": "text/x-r-source",
   "name": "R",
   "pygments_lexer": "r",
   "version": "3.4.4"
  }
 },
 "nbformat": 4,
 "nbformat_minor": 2
}
