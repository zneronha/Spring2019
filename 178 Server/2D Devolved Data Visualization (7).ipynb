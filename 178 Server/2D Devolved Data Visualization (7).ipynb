{
 "cells": [
  {
   "cell_type": "markdown",
   "metadata": {},
   "source": [
    "#### 2D Visualization of 3D IMS Cell Tracking Data\n",
    "\n",
    "- Author: Zachary Neronha (Wong Lab)\n",
    "- Created: 26 Oct, 2018\n",
    "- Last Modified: Nov 21 (Dhananjay Bhaskar)"
   ]
  },
  {
   "cell_type": "markdown",
   "metadata": {},
   "source": [
    "##### Import packages and create helper functions"
   ]
  },
  {
   "cell_type": "code",
   "execution_count": 4,
   "metadata": {},
   "outputs": [
    {
     "data": {
      "text/html": [
       "<script>requirejs.config({paths: { 'plotly': ['https://cdn.plot.ly/plotly-latest.min']},});if(!window.Plotly) {{require(['plotly'],function(plotly) {window.Plotly=plotly;});}}</script>"
      ],
      "text/vnd.plotly.v1+html": [
       "<script>requirejs.config({paths: { 'plotly': ['https://cdn.plot.ly/plotly-latest.min']},});if(!window.Plotly) {{require(['plotly'],function(plotly) {window.Plotly=plotly;});}}</script>"
      ]
     },
     "metadata": {},
     "output_type": "display_data"
    }
   ],
   "source": [
    "import os\n",
    "import numpy as np\n",
    "import pandas as pd\n",
    "from mpl_toolkits.mplot3d import Axes3D\n",
    "import matplotlib.pyplot as plt\n",
    "import matplotlib\n",
    "import matplotlib.cm as cm\n",
    "import plotly.graph_objs as go\n",
    "from plotly.offline import download_plotlyjs, init_notebook_mode, plot, iplot\n",
    "%matplotlib inline\n",
    "from __future__ import division\n",
    "init_notebook_mode(connected=True)\n",
    "import plotly.plotly as py\n",
    "import plotly\n",
    "plotly.tools.set_credentials_file(username='zjneronha', api_key='PMrKGUGAet6kUZ5Rcf5E')\n",
    "import brewer2mpl as cbrew"
   ]
  },
  {
   "cell_type": "code",
   "execution_count": 3,
   "metadata": {},
   "outputs": [],
   "source": [
    "# function 1: return the cells within a certain location\n",
    "def findRange(xPts,yPts,xRange,yRange):\n",
    "    cellList = []\n",
    "    for ii in range(0,np.size(xPts,0)):\n",
    "        qLog = np.greater(xPts[ii,:],xRange[0]) & np.less(xPts[ii,:],xRange[1])\n",
    "        pLog = np.greater(yPts[ii,:],yRange[0]) & np.less(yPts[ii,:],yRange[1])\n",
    "        qLog = sum(qLog)\n",
    "        pLog = sum(pLog)\n",
    "\n",
    "        if qLog > 0 and pLog >0:\n",
    "            cellList.append(ii)\n",
    "    \n",
    "    return cellList\n",
    "\n",
    "# function 2: pull and export only the cells of interest \n",
    "def selExport(xPts,yPts,zPts,MyCells,pathname):\n",
    "    selX = xPts[MyCells,:]\n",
    "    selY = yPts[MyCells,:]\n",
    "    selZ = zPts[MyCells,:]\n",
    "    \n",
    "    ptsSZE = sum(sum(np.logical_not(np.isnan(selX))))\n",
    "    selPTS = np.empty((ptsSZE,3))\n",
    "    loopcounter = 0\n",
    "    \n",
    "    #convert back to direct matrix format and export\n",
    "    for ii in range(0,np.size(selX,0)):\n",
    "        for jj in range(0,np.size(selX,1)):\n",
    "            if np.isnan(selX[ii,jj])==0:\n",
    "                selPTS[loopcounter,:] = [selX[ii,jj],selY[ii,jj],selZ[ii,jj]]\n",
    "                loopcounter = loopcounter + 1\n",
    "                \n",
    "    dTPS = pd.DataFrame(selPTS)\n",
    "    dTPS.to_csv(pathname,index=False,header = False)\n",
    "    \n",
    "    print(\"Feature Complete; Cluster AllTemp Pts File Saved!\")\n",
    "\n",
    "# function 3: pull out and export all points at one time frame\n",
    "def temExport(xPts,yPts,zPts,Frame,pathname):\n",
    "    selX = xPts[:,Frame]\n",
    "    selY = yPts[:,Frame]\n",
    "    selZ = zPts[:,Frame]\n",
    "    \n",
    "    ptsSZE = sum(np.logical_not(np.isnan(selX)))\n",
    "    selPTS = np.empty((ptsSZE,3))\n",
    "    loopcounter = 0\n",
    "    \n",
    "    #convert back to direct matrix format and export\n",
    "    for ii in range(0,np.size(selX,0)):\n",
    "        if np.isnan(selX[ii])==0:\n",
    "            selPTS[loopcounter,:] = [selX[ii],selY[ii],selZ[ii]]\n",
    "            loopcounter = loopcounter + 1\n",
    "                \n",
    "    dTPS = pd.DataFrame(selPTS)\n",
    "    dTPS.to_csv(pathname,index=False,header = False)\n",
    "    \n",
    "    print(\"Feature Complete; Cluster SingTemp Pts File Saved!\")"
   ]
  },
  {
   "cell_type": "markdown",
   "metadata": {},
   "source": [
    "#### Import position data, calculate velocity data"
   ]
  },
  {
   "cell_type": "code",
   "execution_count": 6,
   "metadata": {},
   "outputs": [],
   "source": [
    "wname = \"A07\"\n",
    "interval = (1/3) #hours between imaging \n",
    "\n",
    "# Import data from Excel file\n",
    "fname = os.sep.join([\"Wk2_IMS_Crop_Tracks\", \n",
    "                     \"3d sc xmas 9-20-18 week 2_\"+wname+\"_spots17_Statistics\", \n",
    "                     wname+\"_combineddata.xls\"])\n",
    "\n",
    "xlsZ = pd.ExcelFile(fname)\n",
    "\n",
    "dxx = pd.read_excel(xlsZ,'xStore')\n",
    "dyy = pd.read_excel(xlsZ,'yStore')\n",
    "dzz = pd.read_excel(xlsZ,'zStore')\n",
    "xDat = np.array(dxx)\n",
    "yDat = np.array(dyy)\n",
    "zDat = np.array(dzz)\n",
    "\n",
    "#Can restict timeframes to some extent\n",
    "#xDat = xDat[:,(24*3):(60*3)]\n",
    "#yDat = yDat[:,(24*3):(60*3)]\n",
    "#zDat = zDat[:,(24*3):(60*3)]\n",
    "\n",
    "xVel = np.empty((np.size(xDat,0),np.size(xDat,1)))\n",
    "yVel = np.empty((np.size(xDat,0),np.size(xDat,1)))\n",
    "zVel = np.empty((np.size(xDat,0),np.size(xDat,1)))\n",
    "xVel[:] = np.nan\n",
    "yVel[:] = np.nan\n",
    "zVel[:] = np.nan\n",
    "\n",
    "for k in range(0,np.size(xDat,1)-1):\n",
    "    xVel[:,k] = xDat[:,k+1]-xDat[:,k]\n",
    "    yVel[:,k] = yDat[:,k+1]-yDat[:,k]\n",
    "    zVel[:,k] = zDat[:,k+1]-zDat[:,k]"
   ]
  },
  {
   "cell_type": "markdown",
   "metadata": {},
   "source": [
    "### Plot the data temporally\n",
    "- Note each color corresponds to a distinct cell track over the time window"
   ]
  },
  {
   "cell_type": "code",
   "execution_count": 7,
   "metadata": {},
   "outputs": [
    {
     "data": {
      "text/html": [
       "<iframe id=\"igraph\" scrolling=\"no\" style=\"border:none;\" seamless=\"seamless\" src=\"https://plot.ly/~zjneronha/8.embed\" height=\"525px\" width=\"100%\"></iframe>"
      ],
      "text/plain": [
       "<plotly.tools.PlotlyDisplay object>"
      ]
     },
     "execution_count": 7,
     "metadata": {},
     "output_type": "execute_result"
    }
   ],
   "source": [
    "pltdata = []\n",
    "for i in range(0,np.size(xDat,0)):\n",
    "    # Create a trace\n",
    "    trace = go.Scatter(\n",
    "        name = 'Cell ' + repr(i),\n",
    "        x = xDat[i,:],\n",
    "        y = yDat[i,:],   \n",
    "        )\n",
    "    pltdata.append(trace)\n",
    "data = [pltdata]\n",
    "\n",
    "py.iplot(pltdata, filename='basic-line1')"
   ]
  },
  {
   "cell_type": "code",
   "execution_count": 8,
   "metadata": {},
   "outputs": [
    {
     "name": "stdout",
     "output_type": "stream",
     "text": [
      "[]\n"
     ]
    }
   ],
   "source": [
    "xRan = [540,575]\n",
    "yRan = [330,370]\n",
    "celL = findRange(xDat,yDat,xRan,yRan)\n",
    "print(celL)"
   ]
  },
  {
   "cell_type": "code",
   "execution_count": 9,
   "metadata": {
    "scrolled": false
   },
   "outputs": [],
   "source": [
    "#X and Y temporal plots, frequency estimation, etc.\n",
    "xred = xDat[celL,:]\n",
    "yred = yDat[celL,:]\n",
    "trL = np.multiply(xred,0)+1\n",
    "for k in range(0,np.size(trL,1)):\n",
    "    trL[:,k] = np.multiply(trL[:,k],k)\n",
    "\n",
    "trL = np.multiply(trL,interval)"
   ]
  },
  {
   "cell_type": "code",
   "execution_count": 10,
   "metadata": {},
   "outputs": [
    {
     "ename": "PlotlyEmptyDataError",
     "evalue": "Empty data list found. Make sure that you populated the list of data objects you're sending and try again.\nQuestions? Visit support.plot.ly",
     "output_type": "error",
     "traceback": [
      "\u001b[0;31m---------------------------------------------------------------------------\u001b[0m",
      "\u001b[0;31mPlotlyEmptyDataError\u001b[0m                      Traceback (most recent call last)",
      "\u001b[0;32m<ipython-input-10-27837471f4a6>\u001b[0m in \u001b[0;36m<module>\u001b[0;34m()\u001b[0m\n\u001b[1;32m     11\u001b[0m \u001b[0mdata\u001b[0m \u001b[0;34m=\u001b[0m \u001b[0;34m[\u001b[0m\u001b[0mpltdata\u001b[0m\u001b[0;34m]\u001b[0m\u001b[0;34m\u001b[0m\u001b[0m\n\u001b[1;32m     12\u001b[0m \u001b[0;34m\u001b[0m\u001b[0m\n\u001b[0;32m---> 13\u001b[0;31m \u001b[0mpy\u001b[0m\u001b[0;34m.\u001b[0m\u001b[0miplot\u001b[0m\u001b[0;34m(\u001b[0m\u001b[0mpltdata\u001b[0m\u001b[0;34m,\u001b[0m \u001b[0mfilename\u001b[0m\u001b[0;34m=\u001b[0m\u001b[0;34m'XFREQ'\u001b[0m\u001b[0;34m)\u001b[0m\u001b[0;34m\u001b[0m\u001b[0m\n\u001b[0m",
      "\u001b[0;32m/home/labmember/anaconda2/lib/python2.7/site-packages/plotly/plotly/plotly.pyc\u001b[0m in \u001b[0;36miplot\u001b[0;34m(figure_or_data, **plot_options)\u001b[0m\n\u001b[1;32m    143\u001b[0m     \u001b[0;32mif\u001b[0m \u001b[0;34m'auto_open'\u001b[0m \u001b[0;32mnot\u001b[0m \u001b[0;32min\u001b[0m \u001b[0mplot_options\u001b[0m\u001b[0;34m:\u001b[0m\u001b[0;34m\u001b[0m\u001b[0m\n\u001b[1;32m    144\u001b[0m         \u001b[0mplot_options\u001b[0m\u001b[0;34m[\u001b[0m\u001b[0;34m'auto_open'\u001b[0m\u001b[0;34m]\u001b[0m \u001b[0;34m=\u001b[0m \u001b[0mFalse\u001b[0m\u001b[0;34m\u001b[0m\u001b[0m\n\u001b[0;32m--> 145\u001b[0;31m     \u001b[0murl\u001b[0m \u001b[0;34m=\u001b[0m \u001b[0mplot\u001b[0m\u001b[0;34m(\u001b[0m\u001b[0mfigure_or_data\u001b[0m\u001b[0;34m,\u001b[0m \u001b[0;34m**\u001b[0m\u001b[0mplot_options\u001b[0m\u001b[0;34m)\u001b[0m\u001b[0;34m\u001b[0m\u001b[0m\n\u001b[0m\u001b[1;32m    146\u001b[0m \u001b[0;34m\u001b[0m\u001b[0m\n\u001b[1;32m    147\u001b[0m     \u001b[0;32mif\u001b[0m \u001b[0misinstance\u001b[0m\u001b[0;34m(\u001b[0m\u001b[0mfigure_or_data\u001b[0m\u001b[0;34m,\u001b[0m \u001b[0mdict\u001b[0m\u001b[0;34m)\u001b[0m\u001b[0;34m:\u001b[0m\u001b[0;34m\u001b[0m\u001b[0m\n",
      "\u001b[0;32m/home/labmember/anaconda2/lib/python2.7/site-packages/plotly/plotly/plotly.pyc\u001b[0m in \u001b[0;36mplot\u001b[0;34m(figure_or_data, validate, **plot_options)\u001b[0m\n\u001b[1;32m    208\u001b[0m \u001b[0;34m\u001b[0m\u001b[0m\n\u001b[1;32m    209\u001b[0m     \"\"\"\n\u001b[0;32m--> 210\u001b[0;31m     \u001b[0mfigure\u001b[0m \u001b[0;34m=\u001b[0m \u001b[0mtools\u001b[0m\u001b[0;34m.\u001b[0m\u001b[0mreturn_figure_from_figure_or_data\u001b[0m\u001b[0;34m(\u001b[0m\u001b[0mfigure_or_data\u001b[0m\u001b[0;34m,\u001b[0m \u001b[0mvalidate\u001b[0m\u001b[0;34m)\u001b[0m\u001b[0;34m\u001b[0m\u001b[0m\n\u001b[0m\u001b[1;32m    211\u001b[0m     \u001b[0;32mfor\u001b[0m \u001b[0mentry\u001b[0m \u001b[0;32min\u001b[0m \u001b[0mfigure\u001b[0m\u001b[0;34m[\u001b[0m\u001b[0;34m'data'\u001b[0m\u001b[0;34m]\u001b[0m\u001b[0;34m:\u001b[0m\u001b[0;34m\u001b[0m\u001b[0m\n\u001b[1;32m    212\u001b[0m         \u001b[0;32mif\u001b[0m \u001b[0;34m(\u001b[0m\u001b[0;34m'type'\u001b[0m \u001b[0;32min\u001b[0m \u001b[0mentry\u001b[0m\u001b[0;34m)\u001b[0m \u001b[0;32mand\u001b[0m \u001b[0;34m(\u001b[0m\u001b[0mentry\u001b[0m\u001b[0;34m[\u001b[0m\u001b[0;34m'type'\u001b[0m\u001b[0;34m]\u001b[0m \u001b[0;34m==\u001b[0m \u001b[0;34m'scattergl'\u001b[0m\u001b[0;34m)\u001b[0m\u001b[0;34m:\u001b[0m\u001b[0;34m\u001b[0m\u001b[0m\n",
      "\u001b[0;32m/home/labmember/anaconda2/lib/python2.7/site-packages/plotly/tools.pyc\u001b[0m in \u001b[0;36mreturn_figure_from_figure_or_data\u001b[0;34m(figure_or_data, validate_figure)\u001b[0m\n\u001b[1;32m   1486\u001b[0m         \u001b[0;32mif\u001b[0m \u001b[0;32mnot\u001b[0m \u001b[0mfigure\u001b[0m\u001b[0;34m[\u001b[0m\u001b[0;34m'data'\u001b[0m\u001b[0;34m]\u001b[0m\u001b[0;34m:\u001b[0m\u001b[0;34m\u001b[0m\u001b[0m\n\u001b[1;32m   1487\u001b[0m             raise exceptions.PlotlyEmptyDataError(\n\u001b[0;32m-> 1488\u001b[0;31m                 \u001b[0;34m\"Empty data list found. Make sure that you populated the \"\u001b[0m\u001b[0;34m\u001b[0m\u001b[0m\n\u001b[0m\u001b[1;32m   1489\u001b[0m                 \u001b[0;34m\"list of data objects you're sending and try again.\\n\"\u001b[0m\u001b[0;34m\u001b[0m\u001b[0m\n\u001b[1;32m   1490\u001b[0m                 \u001b[0;34m\"Questions? Visit support.plot.ly\"\u001b[0m\u001b[0;34m\u001b[0m\u001b[0m\n",
      "\u001b[0;31mPlotlyEmptyDataError\u001b[0m: Empty data list found. Make sure that you populated the list of data objects you're sending and try again.\nQuestions? Visit support.plot.ly"
     ]
    }
   ],
   "source": [
    "#plot sequentially\n",
    "pltdata = []\n",
    "for i in range(0,np.size(xred,0)):\n",
    "    # Create a trace\n",
    "    trace = go.Scatter(\n",
    "        name = 'Cell ' + repr(i),\n",
    "        x = trL[i,:],\n",
    "        y = xred[i,:], \n",
    "        )\n",
    "    pltdata.append(trace)\n",
    "data = [pltdata]\n",
    "\n",
    "py.iplot(pltdata, filename='XFREQ')"
   ]
  },
  {
   "cell_type": "code",
   "execution_count": 80,
   "metadata": {},
   "outputs": [
    {
     "data": {
      "text/html": [
       "<iframe id=\"igraph\" scrolling=\"no\" style=\"border:none;\" seamless=\"seamless\" src=\"https://plot.ly/~zjneronha/4.embed\" height=\"525px\" width=\"100%\"></iframe>"
      ],
      "text/plain": [
       "<plotly.tools.PlotlyDisplay object>"
      ]
     },
     "execution_count": 80,
     "metadata": {},
     "output_type": "execute_result"
    }
   ],
   "source": [
    "#plot Y frequency\n",
    "pltdata = []\n",
    "for i in range(0,np.size(xred,0)):\n",
    "    # Create a trace\n",
    "    trace = go.Scatter(\n",
    "        name = 'Cell ' + repr(i),\n",
    "        x = trL[i,:],\n",
    "        y = yred[i,:], \n",
    "        )\n",
    "    pltdata.append(trace)\n",
    "data = [pltdata]\n",
    "\n",
    "py.iplot(pltdata, filename='YFREQ')"
   ]
  },
  {
   "cell_type": "code",
   "execution_count": 62,
   "metadata": {},
   "outputs": [
    {
     "name": "stdout",
     "output_type": "stream",
     "text": [
      "Feature Complete; File Saved!\n"
     ]
    }
   ],
   "source": [
    "pathnameS = \"SelectedFeatures/Circuit1_w\"+repr(currentwell)+\".csv\"\n",
    "selExport(xDat,yDat,zDat,celL,pathnameS)"
   ]
  },
  {
   "cell_type": "markdown",
   "metadata": {},
   "source": [
    "#### Breakup analysis for all points in one frame\n",
    "- Look specifically at plotting\n",
    "- Then export to a csv for TDA in R"
   ]
  },
  {
   "cell_type": "code",
   "execution_count": 15,
   "metadata": {},
   "outputs": [
    {
     "data": {
      "application/vnd.plotly.v1+json": {
       "data": [
        {
         "marker": {
          "color": 1,
          "line": {
           "color": "rgb(180, 180, 180)",
           "width": 1
          },
          "opacity": 0.4,
          "size": 8,
          "symbol": "circle"
         },
         "mode": "markers",
         "name": "SyntheticSphere29",
         "type": "scatter3d",
         "uid": "e87e7494-edd5-11e8-b474-1606cfd0890f",
         "x": [
          null,
          null,
          null,
          null,
          null,
          null,
          null,
          null,
          null,
          null,
          null,
          null,
          null,
          null,
          null,
          null,
          null,
          -3784.7,
          -3785.95,
          -3775.9,
          -3783.15,
          -3799.35,
          -3788.03,
          -3782.91,
          -3792.16,
          -3793.72,
          -3784.95,
          -3772.28,
          -3799.21,
          -3784.12
         ],
         "y": [
          null,
          null,
          null,
          null,
          null,
          null,
          null,
          null,
          null,
          null,
          null,
          null,
          null,
          null,
          null,
          null,
          null,
          -30729.7,
          -30721.7,
          -30717.9,
          -30713.2,
          -30733.3,
          -30710.4,
          -30738.7,
          -30714.9,
          -30736.8,
          -30726.4,
          -30724.8,
          -30722.3,
          -30719.4
         ],
         "z": [
          null,
          null,
          null,
          null,
          null,
          null,
          null,
          null,
          null,
          null,
          null,
          null,
          null,
          null,
          null,
          null,
          null,
          6690.25,
          6689.94,
          6692.1,
          6691.07,
          6695.88,
          6696.76,
          6700.13,
          6699.26,
          6704.09,
          6705.99,
          6704.22,
          6705.45,
          6704.52
         ]
        }
       ],
       "layout": {
        "margin": {
         "b": 0,
         "l": 0,
         "r": 0,
         "t": 0
        }
       }
      },
      "text/html": [
       "<div id=\"5e1e8093-16ff-4c6f-8aa8-5e0fdc5d3b19\" style=\"height: 525px; width: 100%;\" class=\"plotly-graph-div\"></div><script type=\"text/javascript\">require([\"plotly\"], function(Plotly) { window.PLOTLYENV=window.PLOTLYENV || {};window.PLOTLYENV.BASE_URL=\"https://plot.ly\";\n",
       "        Plotly.plot(\n",
       "            '5e1e8093-16ff-4c6f-8aa8-5e0fdc5d3b19',\n",
       "            [{\"name\": \"SyntheticSphere29\", \"marker\": {\"color\": 1, \"opacity\": 0.4, \"line\": {\"color\": \"rgb(180, 180, 180)\", \"width\": 1.0}, \"symbol\": \"circle\", \"size\": 8}, \"mode\": \"markers\", \"y\": [null, null, null, null, null, null, null, null, null, null, null, null, null, null, null, null, null, -30729.7, -30721.7, -30717.9, -30713.2, -30733.3, -30710.4, -30738.7, -30714.9, -30736.8, -30726.4, -30724.8, -30722.3, -30719.4], \"x\": [null, null, null, null, null, null, null, null, null, null, null, null, null, null, null, null, null, -3784.7, -3785.95, -3775.9, -3783.15, -3799.35, -3788.03, -3782.91, -3792.16, -3793.72, -3784.95, -3772.28, -3799.21, -3784.12], \"z\": [null, null, null, null, null, null, null, null, null, null, null, null, null, null, null, null, null, 6690.25, 6689.94, 6692.1, 6691.07, 6695.88, 6696.76, 6700.13, 6699.26, 6704.09, 6705.99, 6704.22, 6705.45, 6704.52], \"type\": \"scatter3d\", \"uid\": \"e87e7494-edd5-11e8-b474-1606cfd0890f\"}],\n",
       "            {\"margin\": {\"r\": 0, \"b\": 0, \"l\": 0, \"t\": 0}},\n",
       "            {\"linkText\": \"Export to plot.ly\", \"showLink\": true}\n",
       "        ).then(function () {return Plotly.addFrames('5e1e8093-16ff-4c6f-8aa8-5e0fdc5d3b19',{});}).then(function(){Plotly.animate('5e1e8093-16ff-4c6f-8aa8-5e0fdc5d3b19');})\n",
       "        });</script>"
      ],
      "text/vnd.plotly.v1+html": [
       "<div id=\"5e1e8093-16ff-4c6f-8aa8-5e0fdc5d3b19\" style=\"height: 525px; width: 100%;\" class=\"plotly-graph-div\"></div><script type=\"text/javascript\">require([\"plotly\"], function(Plotly) { window.PLOTLYENV=window.PLOTLYENV || {};window.PLOTLYENV.BASE_URL=\"https://plot.ly\";\n",
       "        Plotly.plot(\n",
       "            '5e1e8093-16ff-4c6f-8aa8-5e0fdc5d3b19',\n",
       "            [{\"name\": \"SyntheticSphere29\", \"marker\": {\"color\": 1, \"opacity\": 0.4, \"line\": {\"color\": \"rgb(180, 180, 180)\", \"width\": 1.0}, \"symbol\": \"circle\", \"size\": 8}, \"mode\": \"markers\", \"y\": [null, null, null, null, null, null, null, null, null, null, null, null, null, null, null, null, null, -30729.7, -30721.7, -30717.9, -30713.2, -30733.3, -30710.4, -30738.7, -30714.9, -30736.8, -30726.4, -30724.8, -30722.3, -30719.4], \"x\": [null, null, null, null, null, null, null, null, null, null, null, null, null, null, null, null, null, -3784.7, -3785.95, -3775.9, -3783.15, -3799.35, -3788.03, -3782.91, -3792.16, -3793.72, -3784.95, -3772.28, -3799.21, -3784.12], \"z\": [null, null, null, null, null, null, null, null, null, null, null, null, null, null, null, null, null, 6690.25, 6689.94, 6692.1, 6691.07, 6695.88, 6696.76, 6700.13, 6699.26, 6704.09, 6705.99, 6704.22, 6705.45, 6704.52], \"type\": \"scatter3d\", \"uid\": \"e87e7494-edd5-11e8-b474-1606cfd0890f\"}],\n",
       "            {\"margin\": {\"r\": 0, \"b\": 0, \"l\": 0, \"t\": 0}},\n",
       "            {\"linkText\": \"Export to plot.ly\", \"showLink\": true}\n",
       "        ).then(function () {return Plotly.addFrames('5e1e8093-16ff-4c6f-8aa8-5e0fdc5d3b19',{});}).then(function(){Plotly.animate('5e1e8093-16ff-4c6f-8aa8-5e0fdc5d3b19');})\n",
       "        });</script>"
      ]
     },
     "metadata": {},
     "output_type": "display_data"
    }
   ],
   "source": [
    "#define frame of interest\n",
    "FOI = 1\n",
    "\n",
    "plt_data = []\n",
    "trace = go.Scatter3d(\n",
    "            name = 'SyntheticSphere'+repr(i),\n",
    "            x = xDat[:,FOI],\n",
    "            y = yDat[:,FOI],\n",
    "            z = zDat[:,FOI],\n",
    "            mode = 'markers',\n",
    "            marker = dict(\n",
    "                color = 1,\n",
    "                size = 8,\n",
    "                symbol = 'circle',\n",
    "                line = dict(\n",
    "                    color = 'rgb(180, 180, 180)',\n",
    "                    width = 1.0\n",
    "                ),\n",
    "                opacity = 0.4\n",
    "            )\n",
    "        )\n",
    "\n",
    "plt_data.append(trace)\n",
    "\n",
    "layout = go.Layout(margin = dict(l = 0, r = 0, b = 0, t = 0))\n",
    "\n",
    "fig = go.Figure(data=plt_data, layout=layout)\n",
    "\n",
    "iplot(fig)"
   ]
  },
  {
   "cell_type": "code",
   "execution_count": 43,
   "metadata": {},
   "outputs": [
    {
     "name": "stdout",
     "output_type": "stream",
     "text": [
      "Feature Complete; Cluster SingTemp Pts File Saved!\n"
     ]
    }
   ],
   "source": [
    "pathnameF = \"SelectedFeatures/TemBreak_w\"+repr(currentwell)+\"t\"+repr(FOI)+\".csv\"\n",
    "temExport(xDat,yDat,zDat,FOI,pathnameF) "
   ]
  },
  {
   "cell_type": "markdown",
   "metadata": {},
   "source": [
    "#### Save frame 1 positions to CSV file"
   ]
  },
  {
   "cell_type": "code",
   "execution_count": 20,
   "metadata": {},
   "outputs": [
    {
     "name": "stdout",
     "output_type": "stream",
     "text": [
      "Wk2_IMS_Crop_Tracks/3d sc xmas 9-20-18 week 2_B10_spot11_Statistics/B10_combineddata.xls\n",
      "Feature Complete; Cluster SingTemp Pts File Saved!\n",
      "Wk2_IMS_Crop_Tracks/3d sc xmas 9-20-18 week 2_A12_spots15_Statistics/A12_combineddata.xls\n",
      "Feature Complete; Cluster SingTemp Pts File Saved!\n",
      "Wk2_IMS_Crop_Tracks/3d sc xmas 9-20-18 week 2_A07_spots17_Statistics/A07_combineddata.xls\n",
      "Feature Complete; Cluster SingTemp Pts File Saved!\n",
      "Wk2_IMS_Crop_Tracks/3d sc xmas 9-20-18 week 2_A08_spots2_Statistics/A08_combineddata.xls\n",
      "Feature Complete; Cluster SingTemp Pts File Saved!\n"
     ]
    }
   ],
   "source": [
    "import glob\n",
    "import os\n",
    "readpath = glob.glob(\"Wk2_IMS_Crop_Tracks/*/*.xls\")\n",
    "\n",
    "for path in readpath:\n",
    "    \n",
    "    print(path)\n",
    "    filename = os.path.basename(path)\n",
    "    wellname = filename.split(\"_\")[0]\n",
    "    #import data from csv\n",
    "    xlsZ = pd.ExcelFile(path,engine='xlrd')\n",
    "    dxx = pd.read_excel(xlsZ,'xStore')\n",
    "    dyy = pd.read_excel(xlsZ,'yStore')\n",
    "    dzz = pd.read_excel(xlsZ,'zStore')\n",
    "    xDat = np.array(dxx)\n",
    "    yDat = np.array(dyy)\n",
    "    zDat = np.array(dzz)\n",
    "    \n",
    "    ofname = os.sep.join([os.path.dirname(path), wellname+\".csv\"])\n",
    "    \n",
    "    temExport(xDat, yDat, zDat, 1, ofname)"
   ]
  },
  {
   "cell_type": "code",
   "execution_count": null,
   "metadata": {},
   "outputs": [],
   "source": []
  }
 ],
 "metadata": {
  "@webio": {
   "lastCommId": "4749d7586cf540ccafa97e82f8c9a46a",
   "lastKernelId": "07dbc806-7258-4b2f-9877-b98fdb5613ab"
  },
  "kernelspec": {
   "display_name": "Python 2",
   "language": "python",
   "name": "python2"
  },
  "language_info": {
   "codemirror_mode": {
    "name": "ipython",
    "version": 2
   },
   "file_extension": ".py",
   "mimetype": "text/x-python",
   "name": "python",
   "nbconvert_exporter": "python",
   "pygments_lexer": "ipython2",
   "version": "2.7.15"
  }
 },
 "nbformat": 4,
 "nbformat_minor": 2
}
