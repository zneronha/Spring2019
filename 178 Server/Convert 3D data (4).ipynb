{
 "cells": [
  {
   "cell_type": "markdown",
   "metadata": {},
   "source": [
    "#### Extract cell positions from Imaris spot detection and cell tracking output\n",
    "\n",
    "- Author: Zachary Neronha\n",
    "- Last Modified: Nov 21 2018 (Dhananjay Bhaskar)"
   ]
  },
  {
   "cell_type": "code",
   "execution_count": 1,
   "metadata": {},
   "outputs": [],
   "source": [
    "import numpy as np\n",
    "import pandas as pd\n",
    "import glob\n",
    "import os"
   ]
  },
  {
   "cell_type": "code",
   "execution_count": 6,
   "metadata": {},
   "outputs": [],
   "source": [
    "readpath = glob.glob(\"Wk2_IMS_Crop_Tracks/*/*Position.csv\")"
   ]
  },
  {
   "cell_type": "code",
   "execution_count": 7,
   "metadata": {},
   "outputs": [
    {
     "name": "stdout",
     "output_type": "stream",
     "text": [
      "['Wk2_IMS_Crop_Tracks/3d sc xmas 9-20-18 week 2_B10_spot11_Statistics/3d sc xmas 9-20-18 week 2_B10_spot11_Position.csv', 'Wk2_IMS_Crop_Tracks/3d sc xmas 9-20-18 week 2_A12_spots15_Statistics/3d sc xmas 9-20-18 week 2_A12_spots15_Position.csv', 'Wk2_IMS_Crop_Tracks/3d sc xmas 9-20-18 week 2_A07_spots17_Statistics/3d sc xmas 9-20-18 week 2_A07_spots17_Position.csv', 'Wk2_IMS_Crop_Tracks/3d sc xmas 9-20-18 week 2_A08_spots2_Statistics/3d sc xmas 9-20-18 week 2_A08_spots2_Position.csv']\n"
     ]
    }
   ],
   "source": [
    "print(readpath)"
   ]
  },
  {
   "cell_type": "code",
   "execution_count": 14,
   "metadata": {
    "scrolled": true
   },
   "outputs": [
    {
     "name": "stdout",
     "output_type": "stream",
     "text": [
      "B10\n",
      "Number of tracks: 27\n",
      "A12\n",
      "Number of tracks: 25\n",
      "A07\n",
      "Number of tracks: 30\n",
      "A08\n",
      "Number of tracks: 24\n"
     ]
    }
   ],
   "source": [
    "for path in readpath:\n",
    "    \n",
    "    filename = os.path.basename(path)\n",
    "    wellname = filename.split(\"_\")[1]\n",
    "    \n",
    "    df = pd.read_csv(path,skiprows=[0,1,2])\n",
    "    inputdata = np.array(df)\n",
    "\n",
    "    #split up data into constitutant columns \n",
    "    Xdata = inputdata[:,0]\n",
    "    Ydata = inputdata[:,1]\n",
    "    Zdata = inputdata[:,2]\n",
    "    Tdata = inputdata[:,6]\n",
    "    TrackID = inputdata[:,7]\n",
    "\n",
    "    #rescale data as needed\n",
    "    TrackID = TrackID-min(TrackID)\n",
    "    #Xdata = Xdata-min(Xdata)\n",
    "    #Ydata = Ydata-min(Ydata)\n",
    "    #Zdata = Zdata-min(Zdata)\n",
    "    Tdata = Tdata - 1\n",
    "\n",
    "    #how many actual cells\n",
    "    #TrackIDl = np.isnan(np.float64(TrackID))\n",
    "    #tiReal = TrackID[TrackIDl==False]\n",
    "    #numCELL = len(np.unique(tiReal))\n",
    "    numCELL = np.max(TrackID)+1\n",
    "    \n",
    "    #preallocate memory for final dataframes\n",
    "    xStore = np.empty((numCELL,len(np.unique(Tdata))))\n",
    "    yStore = np.empty((numCELL,len(np.unique(Tdata))))\n",
    "    zStore = np.empty((numCELL,len(np.unique(Tdata))))\n",
    "    xStore[:] = np.nan\n",
    "    yStore[:] = np.nan\n",
    "    zStore[:] = np.nan\n",
    "    \n",
    "    #loop through time frames\n",
    "    for time in range(0,len(np.unique(Tdata))):\n",
    "    #for time in range(0,10):\n",
    "        #pull out appropriate temporal data\n",
    "        tempIX = Tdata == time\n",
    "        tempT = Tdata[tempIX==True]\n",
    "        tempX = Xdata[tempIX==True]\n",
    "        tempY = Ydata[tempIX==True]\n",
    "        tempZ = Zdata[tempIX==True]\n",
    "        tempID = TrackID[tempIX==True]\n",
    "\n",
    "        for ii in range(0,len(np.unique(tempID))):\n",
    "            #determine which cell we are indexing\n",
    "            cell = tempID[ii]\n",
    "            #if the cell is registered\n",
    "            if np.isnan(np.float64(cell))==False:\n",
    "                cell = np.int64(cell)\n",
    "                xStore[cell,time] = tempX[np.int64(ii)]\n",
    "                yStore[cell,time] = tempY[np.int64(ii)]\n",
    "                zStore[cell,time] = tempZ[np.int64(ii)]\n",
    "\n",
    "    \n",
    "    dx = pd.DataFrame(xStore)\n",
    "    dy = pd.DataFrame(yStore)\n",
    "    dz = pd.DataFrame(zStore)\n",
    "    \n",
    "    dirname = os.path.dirname(path)\n",
    "    outfilename = os.sep.join([dirname, wellname + \"_combineddata.xls\"])\n",
    "    \n",
    "    writer = pd.ExcelWriter(outfilename, engine='xlsxwriter')\n",
    "    dx.to_excel(writer, sheet_name='xStore')\n",
    "    dy.to_excel(writer, sheet_name='yStore')\n",
    "    dz.to_excel(writer, sheet_name='zStore')\n",
    "    \n",
    "    print(wellname)\n",
    "    print(\"Number of tracks: \" + repr(numCELL))"
   ]
  },
  {
   "cell_type": "code",
   "execution_count": null,
   "metadata": {},
   "outputs": [],
   "source": []
  }
 ],
 "metadata": {
  "@webio": {
   "lastCommId": null,
   "lastKernelId": null
  },
  "kernelspec": {
   "display_name": "Python 2",
   "language": "python",
   "name": "python2"
  },
  "language_info": {
   "codemirror_mode": {
    "name": "ipython",
    "version": 2
   },
   "file_extension": ".py",
   "mimetype": "text/x-python",
   "name": "python",
   "nbconvert_exporter": "python",
   "pygments_lexer": "ipython2",
   "version": "2.7.15"
  }
 },
 "nbformat": 4,
 "nbformat_minor": 2
}
